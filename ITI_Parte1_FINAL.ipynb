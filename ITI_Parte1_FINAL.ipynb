{
  "cells": [
    {
      "cell_type": "code",
      "execution_count": null,
      "metadata": {
        "id": "tQBsMjysvfn2"
      },
      "outputs": [],
      "source": [
        "# Importando bibliotecas\n",
        "import time\n",
        "import struct\n",
        "import matplotlib.pyplot as plt\n",
        "import matplotlib.ticker as ticker\n",
        "import filecmp\n",
        "\n",
        "rc = []\n",
        "tempo = []"
      ]
    },
    {
      "cell_type": "code",
      "execution_count": null,
      "metadata": {
        "id": "sW4j8VhKy2Uv"
      },
      "outputs": [],
      "source": [
        "def comp(arqv, limit):\n",
        "  print('-------------------------------------')\n",
        "  #ABRINDO ARQUIVO ORIGINAL ----------------------------------------------------\n",
        "  origin = open(arqv, \"rb\").read()\n",
        "  origin = origin.decode('latin1')\n",
        "\n",
        "  #INICIALIZANDO DICIONÁRIO PADRÃO 0-255 E INICIANDO MARCAÇÃO DE TEMPO ---------\n",
        "  start = time.time() # INICIO DO TIMER\n",
        "  dicio = {}\n",
        "  tamdicio = 256\n",
        "  for i in range(tamdicio):\n",
        "    dicio[i.to_bytes(1, 'big')] = i\n",
        "  \n",
        "  #COMPRESSOR LZW --------------------------------------------------------------\n",
        "  simb = origin[0]\n",
        "  out = []\n",
        "  limit1 = pow(2,limit) \n",
        "  flag = 0\n",
        "\n",
        "  for i in range(len(origin)):\n",
        "    try:\n",
        "        next = origin[i+1]\n",
        "    except:\n",
        "      out.append(dicio[simb.encode('latin1')])\n",
        "      break\n",
        "\n",
        "    word = simb + next\n",
        "\n",
        "    if word.encode('latin1') in dicio:\n",
        "      simb = word\n",
        "      continue\n",
        "\n",
        "    else:\n",
        "      out.append(dicio[simb.encode('latin1')])\n",
        "\n",
        "    if tamdicio < limit1:\n",
        "      dicio[word.encode('latin1')] = tamdicio\n",
        "      tamdicio = tamdicio + 1\n",
        "    else:\n",
        "      flag = 1\n",
        "\n",
        "    simb = next\n",
        "\n",
        "  end = time.time()   # FIM DO TIMER\n",
        "\n",
        "  if flag == 1:\n",
        "      print(f'Limite de Dicionário {limit} atingido!')\n",
        "  else:\n",
        "      print(f'Limite de Dicionário {limit} NÃO foi atingido!')\n",
        "\n",
        "  compress_time = end-start\n",
        "  print(f'Tempo de compressão: {compress_time} segundos.')\n",
        "\n",
        "  #ESCREVENDO ARQUIVO COMPRIMIDO ----------------------------------------------- \n",
        "  if (arqv.split(\".\")[0] == 'corpus16MB') or (arqv.split(\".\")[0] == 'teste'):\n",
        "    name = arqv.split(\".\")[0]+\"_compress_\"+str(limit)+'.txt'\n",
        "  elif arqv.split(\".\")[0] == 'disco':\n",
        "    name = arqv.split(\".\")[0]+\"_compress_\"+str(limit)+'.mp4'\n",
        "  \n",
        "  arquivo = open(name,'wb')\n",
        "  for i in out:\n",
        "        arquivo.write(struct.pack('H', i))\n",
        "  arquivo.close()\n",
        "  \n",
        "  print(f'Usando o dicionário com limite {limit} resultou em:')\n",
        "  print(f'Tamanho original: {len(origin)}, tamanho comprimido: {len(out)} (qnt de simbolos).')\n",
        "  print(f'ARQUIVO COMPRIMIDO {name} CRIADO!\\n')\n",
        "\n",
        "  rc.append(len(origin)/(2*len(out)))\n",
        "  tempo.append(compress_time)\n",
        "\n",
        "  return name"
      ]
    },
    {
      "cell_type": "code",
      "execution_count": null,
      "metadata": {
        "id": "lv6YFhIFRoJh"
      },
      "outputs": [],
      "source": [
        "def decomp(arqv, limit):\n",
        "  #LENDO ARQUIVO COMPRIMIDO ----------------------------------------------------\n",
        "  comprimido = []\n",
        "  arquivo = open(arqv, \"rb\").read()\n",
        "  for i in range(0,len(arquivo),2):\n",
        "    byte = bytearray([arquivo[i],arquivo[i+1]])\n",
        "    comprimido.append(struct.unpack('H', byte)[0])\n",
        "\n",
        "  #INICIALIZANDO DICIONÁRIO PADRÃO 0-255 E INICIANDO MARCAÇÃO DE TEMPO ---------\n",
        "  start = time.time()\n",
        "  dicio = {}\n",
        "  for i in range(256):\n",
        "    dicio[i] = chr(i)\n",
        "\n",
        "  #DESCOMPRESSOR LZW -----------------------------------------------------------\n",
        "  flag = 0\n",
        "  num = 256\n",
        "  decom = ''\n",
        "  for i in comprimido:\n",
        "    if len(dicio) <= 2**limit:\n",
        "      if num > 256:    # ATUALIZA PALAVRA ANTERIOR COM A PRIMEIRA LETRA DO ATUAL\n",
        "        dicio[num-1] += dicio[i][0] # IGUAL A ? DO ALGORITMO VISTO EM SALA\n",
        "    else:\n",
        "      flag = 1\n",
        "\n",
        "    decom += dicio[i]\n",
        "    dicio[num] = dicio[i]  # ADICIONA ELEMENTO ATUAL AO DICIONARIO\n",
        "    num += 1\n",
        "\n",
        "  end = time.time()\n",
        "\n",
        "  if flag == 1:\n",
        "    print(f'Limite de Dicionário {limit} atingido!')\n",
        "  else:\n",
        "    print(f'Limite de Dicionário {limit} NÃO foi atingido!')\n",
        "\n",
        "  print(f'Tempo de descompressão: {end-start} segundos.')\n",
        "\n",
        "  #ESCREVENDO ARQUIVO DESCOMPRIMIDO --------------------------------------------\n",
        "  if (arqv.split(\"_\")[0] == 'corpus16MB') or (arqv.split(\"_\")[0] == 'teste'):\n",
        "    name = arqv.split(\"_\")[0]+\"_decompress_\"+str(limit)+'.txt'\n",
        "  elif arqv.split(\"_\")[0] == 'disco':\n",
        "    name = arqv.split(\"_\")[0]+\"_decompress_\"+str(limit)+'.mp4'\n",
        "\n",
        "  #name = arqv.split(\"_\")[0] + '_decompress_' + str(limit) + '.txt'\n",
        "  decompress_arqv = open(name, 'wb')\n",
        "  for i in decom:\n",
        "    decompress_arqv.write(struct.pack('B', ord(i)))\n",
        "\n",
        "  print(f'Tamanho comprimido: {len(comprimido)}, tamanho descomprimido: {len(decom)}.')\n",
        "  print(f'ARQUIVO DESCOMPRIMIDO {name} CRIADO!')\n",
        "  print('-------------------------------------\\n\\n')"
      ]
    },
    {
      "cell_type": "code",
      "execution_count": null,
      "metadata": {
        "colab": {
          "base_uri": "https://localhost:8080/"
        },
        "id": "NsmxuD3VqULj",
        "outputId": "eb86c89e-74bd-4783-f506-7f3771a032b3"
      },
      "outputs": [
        {
          "output_type": "stream",
          "name": "stdout",
          "text": [
            "-------------------------------------\n",
            "Limite de Dicionário 9 atingido!\n",
            "Tempo de compressão: 10.653069257736206 segundos.\n",
            "Usando o dicionário com limite 9 resultou em:\n",
            "Tamanho original: 15637149, tamanho comprimido: 9060006 (qnt de simbolos).\n",
            "ARQUIVO COMPRIMIDO corpus16MB_compress_9.txt CRIADO!\n",
            "\n",
            "Limite de Dicionário 9 atingido!\n",
            "Tempo de descompressão: 6.561182975769043 segundos.\n",
            "Tamanho comprimido: 9060006, tamanho descomprimido: 15637149.\n",
            "ARQUIVO DESCOMPRIMIDO corpus16MB_decompress_9.txt CRIADO!\n",
            "-------------------------------------\n",
            "\n",
            "\n",
            "-------------------------------------\n",
            "Limite de Dicionário 10 atingido!\n",
            "Tempo de compressão: 10.317514657974243 segundos.\n",
            "Usando o dicionário com limite 10 resultou em:\n",
            "Tamanho original: 15637149, tamanho comprimido: 7345845 (qnt de simbolos).\n",
            "ARQUIVO COMPRIMIDO corpus16MB_compress_10.txt CRIADO!\n",
            "\n",
            "Limite de Dicionário 10 atingido!\n",
            "Tempo de descompressão: 5.094473361968994 segundos.\n",
            "Tamanho comprimido: 7345845, tamanho descomprimido: 15637149.\n",
            "ARQUIVO DESCOMPRIMIDO corpus16MB_decompress_10.txt CRIADO!\n",
            "-------------------------------------\n",
            "\n",
            "\n",
            "-------------------------------------\n",
            "Limite de Dicionário 11 atingido!\n",
            "Tempo de compressão: 9.806235313415527 segundos.\n",
            "Usando o dicionário com limite 11 resultou em:\n",
            "Tamanho original: 15637149, tamanho comprimido: 6132886 (qnt de simbolos).\n",
            "ARQUIVO COMPRIMIDO corpus16MB_compress_11.txt CRIADO!\n",
            "\n",
            "Limite de Dicionário 11 atingido!\n",
            "Tempo de descompressão: 4.741239309310913 segundos.\n",
            "Tamanho comprimido: 6132886, tamanho descomprimido: 15637149.\n",
            "ARQUIVO DESCOMPRIMIDO corpus16MB_decompress_11.txt CRIADO!\n",
            "-------------------------------------\n",
            "\n",
            "\n",
            "-------------------------------------\n",
            "Limite de Dicionário 12 atingido!\n",
            "Tempo de compressão: 9.701701402664185 segundos.\n",
            "Usando o dicionário com limite 12 resultou em:\n",
            "Tamanho original: 15637149, tamanho comprimido: 5332516 (qnt de simbolos).\n",
            "ARQUIVO COMPRIMIDO corpus16MB_compress_12.txt CRIADO!\n",
            "\n",
            "Limite de Dicionário 12 atingido!\n",
            "Tempo de descompressão: 3.8590753078460693 segundos.\n",
            "Tamanho comprimido: 5332516, tamanho descomprimido: 15637149.\n",
            "ARQUIVO DESCOMPRIMIDO corpus16MB_decompress_12.txt CRIADO!\n",
            "-------------------------------------\n",
            "\n",
            "\n",
            "-------------------------------------\n",
            "Limite de Dicionário 13 atingido!\n",
            "Tempo de compressão: 10.32237458229065 segundos.\n",
            "Usando o dicionário com limite 13 resultou em:\n",
            "Tamanho original: 15637149, tamanho comprimido: 4706167 (qnt de simbolos).\n",
            "ARQUIVO COMPRIMIDO corpus16MB_compress_13.txt CRIADO!\n",
            "\n",
            "Limite de Dicionário 13 atingido!\n",
            "Tempo de descompressão: 3.9757843017578125 segundos.\n",
            "Tamanho comprimido: 4706167, tamanho descomprimido: 15637149.\n",
            "ARQUIVO DESCOMPRIMIDO corpus16MB_decompress_13.txt CRIADO!\n",
            "-------------------------------------\n",
            "\n",
            "\n",
            "-------------------------------------\n",
            "Limite de Dicionário 14 atingido!\n",
            "Tempo de compressão: 10.180356979370117 segundos.\n",
            "Usando o dicionário com limite 14 resultou em:\n",
            "Tamanho original: 15637149, tamanho comprimido: 4196059 (qnt de simbolos).\n",
            "ARQUIVO COMPRIMIDO corpus16MB_compress_14.txt CRIADO!\n",
            "\n",
            "Limite de Dicionário 14 atingido!\n",
            "Tempo de descompressão: 3.8359014987945557 segundos.\n",
            "Tamanho comprimido: 4196059, tamanho descomprimido: 15637149.\n",
            "ARQUIVO DESCOMPRIMIDO corpus16MB_decompress_14.txt CRIADO!\n",
            "-------------------------------------\n",
            "\n",
            "\n",
            "-------------------------------------\n",
            "Limite de Dicionário 15 atingido!\n",
            "Tempo de compressão: 10.922850847244263 segundos.\n",
            "Usando o dicionário com limite 15 resultou em:\n",
            "Tamanho original: 15637149, tamanho comprimido: 3769987 (qnt de simbolos).\n",
            "ARQUIVO COMPRIMIDO corpus16MB_compress_15.txt CRIADO!\n",
            "\n",
            "Limite de Dicionário 15 atingido!\n",
            "Tempo de descompressão: 4.135889530181885 segundos.\n",
            "Tamanho comprimido: 3769987, tamanho descomprimido: 15637149.\n",
            "ARQUIVO DESCOMPRIMIDO corpus16MB_decompress_15.txt CRIADO!\n",
            "-------------------------------------\n",
            "\n",
            "\n",
            "-------------------------------------\n",
            "Limite de Dicionário 16 atingido!\n",
            "Tempo de compressão: 11.952224254608154 segundos.\n",
            "Usando o dicionário com limite 16 resultou em:\n",
            "Tamanho original: 15637149, tamanho comprimido: 3397574 (qnt de simbolos).\n",
            "ARQUIVO COMPRIMIDO corpus16MB_compress_16.txt CRIADO!\n",
            "\n",
            "Limite de Dicionário 16 atingido!\n",
            "Tempo de descompressão: 3.303025722503662 segundos.\n",
            "Tamanho comprimido: 3397574, tamanho descomprimido: 15637149.\n",
            "ARQUIVO DESCOMPRIMIDO corpus16MB_decompress_16.txt CRIADO!\n",
            "-------------------------------------\n",
            "\n",
            "\n"
          ]
        }
      ],
      "source": [
        "# MAIN\n",
        "\n",
        "arqv1 = 'corpus16MB.txt'\n",
        "arqv2 = 'disco.mp4'\n",
        "arqv3 = 'teste.txt'\n",
        "\n",
        "name_comp = ''\n",
        "for i in range(9,17):\n",
        "  name_comp = comp(arqv1, i)\n",
        "  decomp(name_comp, i)"
      ]
    },
    {
      "cell_type": "code",
      "execution_count": null,
      "metadata": {
        "colab": {
          "base_uri": "https://localhost:8080/"
        },
        "id": "KePsFLFR9jKg",
        "outputId": "4b54a036-d07c-42f9-82b7-ebb4ab3bda8e"
      },
      "outputs": [
        {
          "output_type": "stream",
          "name": "stdout",
          "text": [
            "total 225356\n",
            "-rw-r--r-- 1 root root 18120012 Jun  2 13:49 corpus16MB_compress_9.txt\n",
            "-rw-r--r-- 1 root root 15637149 Jun  2 13:50 corpus16MB_decompress_10.txt\n",
            "-rw-r--r-- 1 root root 15637149 Jun  2 13:50 corpus16MB_decompress_11.txt\n",
            "-rw-r--r-- 1 root root 15637149 Jun  2 13:51 corpus16MB_decompress_12.txt\n",
            "-rw-r--r-- 1 root root 15637149 Jun  2 13:51 corpus16MB_decompress_13.txt\n",
            "-rw-r--r-- 1 root root 15637149 Jun  2 13:51 corpus16MB_decompress_14.txt\n",
            "-rw-r--r-- 1 root root 15637149 Jun  2 13:52 corpus16MB_decompress_15.txt\n",
            "-rw-r--r-- 1 root root 15637149 Jun  2 13:52 corpus16MB_decompress_16.txt\n",
            "-rw-r--r-- 1 root root 15637149 Jun  2 13:49 corpus16MB_decompress_9.txt\n",
            "-rw-r--r-- 1 root root 15637149 Jun  2 13:43 corpus16MB.txt\n",
            "-rw-r--r-- 1 root root 14691690 Jun  2 13:50 corpus16MB_compress_10.txt\n",
            "-rw-r--r-- 1 root root 12265772 Jun  2 13:50 corpus16MB_compress_11.txt\n",
            "-rw-r--r-- 1 root root 10665032 Jun  2 13:50 corpus16MB_compress_12.txt\n",
            "-rw-r--r-- 1 root root  9412334 Jun  2 13:51 corpus16MB_compress_13.txt\n",
            "-rw-r--r-- 1 root root  8392118 Jun  2 13:51 corpus16MB_compress_14.txt\n",
            "-rw-r--r-- 1 root root  7539974 Jun  2 13:52 corpus16MB_compress_15.txt\n",
            "-rw-r--r-- 1 root root  6795148 Jun  2 13:52 corpus16MB_compress_16.txt\n",
            "-rw-r--r-- 1 root root  2111047 Jun  2 13:42 disco.mp4\n",
            "drwxr-xr-x 1 root root     4096 Jun  2 13:52 \u001b[0m\u001b[01;34m.\u001b[0m/\n",
            "drwxr-xr-x 1 root root     4096 Jun  2 13:41 \u001b[01;34m..\u001b[0m/\n",
            "drwxr-xr-x 4 root root     4096 May 17 13:38 \u001b[01;34m.config\u001b[0m/\n",
            "drwxr-xr-x 1 root root     4096 May 17 13:39 \u001b[01;34msample_data\u001b[0m/\n"
          ]
        }
      ],
      "source": [
        "ls -laS"
      ]
    },
    {
      "cell_type": "code",
      "execution_count": null,
      "metadata": {
        "colab": {
          "base_uri": "https://localhost:8080/"
        },
        "id": "sy_C4bHTzI8U",
        "outputId": "841832aa-c7c0-49d1-a68a-c40c37e9d8d9"
      },
      "outputs": [
        {
          "output_type": "stream",
          "name": "stdout",
          "text": [
            "corpus16MB.txt e corpus16MB_decompress_9.txt são iguais!\n",
            "corpus16MB.txt e corpus16MB_decompress_10.txt são iguais!\n",
            "corpus16MB.txt e corpus16MB_decompress_11.txt são iguais!\n",
            "corpus16MB.txt e corpus16MB_decompress_12.txt são iguais!\n",
            "corpus16MB.txt e corpus16MB_decompress_13.txt são iguais!\n",
            "corpus16MB.txt e corpus16MB_decompress_14.txt são iguais!\n",
            "corpus16MB.txt e corpus16MB_decompress_15.txt são iguais!\n",
            "corpus16MB.txt e corpus16MB_decompress_16.txt são iguais!\n"
          ]
        }
      ],
      "source": [
        "origin = 'corpus16MB.txt'\n",
        "for i in range(9,17):\n",
        "  zip = origin.split('.')[0] + '_decompress_' + str(i) + '.txt'\n",
        "  if filecmp.cmp(origin, zip) == True:\n",
        "    print(f'{origin} e {zip} são iguais!')"
      ]
    },
    {
      "cell_type": "code",
      "execution_count": null,
      "metadata": {
        "colab": {
          "base_uri": "https://localhost:8080/",
          "height": 631
        },
        "id": "bD3ff9qmRoQ-",
        "outputId": "a1e3772d-b1a2-4e5d-bbbe-d888f145d520"
      },
      "outputs": [
        {
          "output_type": "stream",
          "name": "stdout",
          "text": [
            "[0.8629767463730157, 1.0643533181002323, 1.2748605631997725, 1.4662074150363542, 1.6613465905481042, 1.8633137665604798, 2.073899591696205, 2.301222725391706]\n",
            "[10.653069257736206, 10.317514657974243, 9.806235313415527, 9.701701402664185, 10.32237458229065, 10.180356979370117, 10.922850847244263, 11.952224254608154]\n"
          ]
        },
        {
          "output_type": "display_data",
          "data": {
            "text/plain": [
              "<Figure size 432x288 with 1 Axes>"
            ],
            "image/png": "[encoded data removed]"
          },
          "metadata": {
            "needs_background": "light"
          }
        },
        {
          "output_type": "display_data",
          "data": {
            "text/plain": [
              "<Figure size 432x288 with 1 Axes>"
            ],
            "image/png": "[encoded data removed]"
          },
          "metadata": {
            "needs_background": "light"
          }
        }
      ],
      "source": [
        "print(rc)\n",
        "print(tempo)\n",
        "\n",
        "k = [9,10,11,12,13,14,15,16]\n",
        "\n",
        "# Gráfico da razao de compressão por K\n",
        "fig, ax = plt.subplots()\n",
        "ax.plot(k, rc, 'go-', linewidth=2, markersize=8)\n",
        "ax.xaxis.set_major_locator(ticker.MultipleLocator(1))\n",
        "ax.set(xlabel='K', ylabel='RC', title='Razão de Compressão por K')\n",
        "ax.grid()\n",
        "plt.tight_layout()\n",
        "plt.show()\n",
        "\n",
        "# Gráfico do tempo por K\n",
        "fig, bx = plt.subplots()\n",
        "bx.plot(k, tempo, 'go-', linewidth=2, markersize=8)\n",
        "bx.xaxis.set_major_locator(ticker.MultipleLocator(1))\n",
        "bx.set(xlabel='K', ylabel='Tempo em segundos', title='Gráfico do tempo pelo K')\n",
        "bx.grid()\n",
        "plt.show()"
      ]
    }
  ],
  "metadata": {
    "colab": {
      "collapsed_sections": [],
      "provenance": []
    },
    "kernelspec": {
      "display_name": "Python 3",
      "name": "python3"
    },
    "language_info": {
      "name": "python"
    }
  },
  "nbformat": 4,
  "nbformat_minor": 0
}